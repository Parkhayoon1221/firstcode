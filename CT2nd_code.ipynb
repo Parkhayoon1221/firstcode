{
  "nbformat": 4,
  "nbformat_minor": 0,
  "metadata": {
    "colab": {
      "provenance": [],
      "authorship_tag": "ABX9TyPTZGANct6DGKR7dLcuaiqx",
      "include_colab_link": true
    },
    "kernelspec": {
      "name": "python3",
      "display_name": "Python 3"
    },
    "language_info": {
      "name": "python"
    }
  },
  "cells": [
    {
      "cell_type": "markdown",
      "metadata": {
        "id": "view-in-github",
        "colab_type": "text"
      },
      "source": [
        "<a href=\"https://colab.research.google.com/github/Parkhayoon1221/firstcode/blob/main/CT2nd_code.ipynb\" target=\"_parent\"><img src=\"https://colab.research.google.com/assets/colab-badge.svg\" alt=\"Open In Colab\"/></a>"
      ]
    },
    {
      "cell_type": "markdown",
      "source": [
        "2번쨰 코딩\n",
        "사용자로부터 3개의 값을 받아서 합을 내고, 평균을 출력하는 코드\n"
      ],
      "metadata": {
        "id": "GKzOUUM_KhNv"
      }
    },
    {
      "cell_type": "code",
      "execution_count": null,
      "metadata": {
        "colab": {
          "base_uri": "https://localhost:8080/"
        },
        "id": "oj8RnrdAGoNf",
        "outputId": "1f6c0cdb-90c6-44b7-d3b2-822fa21c449b"
      },
      "outputs": [
        {
          "output_type": "stream",
          "name": "stdout",
          "text": [
            "N1의 값을 입력하시오.: 40\n",
            "N2의 값을 입력하시오.; 50\n",
            "N3의 값을 입력하시오.: 60\n",
            "50.0\n"
          ]
        }
      ],
      "source": [
        "n1=int(input(\"N1의 값을 입력하시오.: \")) # 사용자로부터 N1의 값을 입력받음\n",
        "n2=int(input(\"N2의 값을 입력하시오.; \")) # 사용자로부터 N2의 값을 입력받음\n",
        "n3=int(input(\"N3의 값을 입력하시오.: \")) # 사용자로부터 N3의 값을 입력받음\n",
        "total=n1+n2+n3 # 입력받은 세 개의 숫자를 더하여 총합을 계산\n",
        "average=total/3 # 총합을 세 개로 나누어 평균을 계산\n",
        "print(average) # 평균을 출력"
      ]
    },
    {
      "cell_type": "markdown",
      "source": [],
      "metadata": {
        "id": "gv49W0M4Kdi3"
      }
    }
  ]
}