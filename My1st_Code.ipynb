{
  "nbformat": 4,
  "nbformat_minor": 0,
  "metadata": {
    "colab": {
      "provenance": [],
      "authorship_tag": "ABX9TyMxChO2y2p7ODuLGcS4w6hu",
      "include_colab_link": true
    },
    "kernelspec": {
      "name": "python3",
      "display_name": "Python 3"
    },
    "language_info": {
      "name": "python"
    }
  },
  "cells": [
    {
      "cell_type": "markdown",
      "metadata": {
        "id": "view-in-github",
        "colab_type": "text"
      },
      "source": [
        "<a href=\"https://colab.research.google.com/github/Parkhayoon1221/firstcode/blob/main/My1st_Code.ipynb\" target=\"_parent\"><img src=\"https://colab.research.google.com/assets/colab-badge.svg\" alt=\"Open In Colab\"/></a>"
      ]
    },
    {
      "cell_type": "markdown",
      "source": [
        "1.나의 생에 첫 코드작성(Hello World)"
      ],
      "metadata": {
        "id": "YnQtdGY7hAvB"
      }
    },
    {
      "cell_type": "code",
      "execution_count": 4,
      "metadata": {
        "colab": {
          "base_uri": "https://localhost:8080/"
        },
        "id": "kn4p9gGecQKS",
        "outputId": "4ae91f40-8ea5-4614-ebb8-9a73eaceecb1"
      },
      "outputs": [
        {
          "output_type": "stream",
          "name": "stdout",
          "text": [
            "helloworld!\n"
          ]
        }
      ],
      "source": [
        "print(\"helloworld!\")"
      ]
    },
    {
      "cell_type": "markdown",
      "source": [
        "2.사칙연산(+,-,*,/)"
      ],
      "metadata": {
        "id": "f_Ezv_6okDIi"
      }
    },
    {
      "cell_type": "code",
      "source": [
        "print(4+4,4-2,4*4,4//2)"
      ],
      "metadata": {
        "colab": {
          "base_uri": "https://localhost:8080/"
        },
        "id": "0SlCFs8BkQrB",
        "outputId": "ba72ff6a-ea52-4efb-e8d3-746a4cc57d92"
      },
      "execution_count": 7,
      "outputs": [
        {
          "output_type": "stream",
          "name": "stdout",
          "text": [
            "8 2 16 2\n"
          ]
        }
      ]
    }
  ]
}